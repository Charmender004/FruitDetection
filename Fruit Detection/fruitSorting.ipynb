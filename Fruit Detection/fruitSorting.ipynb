{
 "cells": [
  {
   "cell_type": "code",
   "execution_count": 50,
   "metadata": {},
   "outputs": [],
   "source": [
    "import cv2\n",
    "import os\n",
    "import numpy as np\n",
    "import pandas as pd\n",
    "from skimage.feature import graycomatrix, graycoprops\n",
    "from sklearn.ensemble import RandomForestClassifier\n",
    "from sklearn.model_selection import train_test_split\n",
    "from sklearn.metrics import accuracy_score, classification_report\n",
    "import pickle"
   ]
  },
  {
   "cell_type": "code",
   "execution_count": 51,
   "metadata": {},
   "outputs": [],
   "source": [
    "# Image Enhancing\n",
    "\n",
    "def preprocess_img(img):\n",
    "    resized_img = cv2.resize(img, (256,256))\n",
    "\n",
    "    gray = cv2.cvtColor(resized_img, cv2.COLOR_BGR2GRAY)\n",
    "\n",
    "    clahe = cv2.createCLAHE(3, (8,8))\n",
    "    equalized_img = clahe.apply(gray)\n",
    "\n",
    "    blurred_img = cv2.medianBlur(equalized_img, 5)\n",
    "\n",
    "    hsv_img = cv2.cvtColor(resized_img, cv2.COLOR_BGR2HSV)\n",
    "\n",
    "    hist_h = cv2.calcHist([hsv_img], [0], None, [180], [0, 180]) \n",
    "    hist_s = cv2.calcHist([hsv_img], [1], None, [256], [0, 256])\n",
    "    hist_v = cv2.calcHist([hsv_img], [2], None, [256], [0, 256])\n",
    "\n",
    "    hist_h = hist_h / np.linalg.norm(hist_h)\n",
    "    hist_s = hist_s / np.linalg.norm(hist_s)\n",
    "    hist_v = hist_v / np.linalg.norm(hist_v)\n",
    "\n",
    "    color_hist = np.concatenate([hist_h, hist_s, hist_v]).flatten()\n",
    "\n",
    "    return blurred_img, color_hist"
   ]
  },
  {
   "cell_type": "code",
   "execution_count": 52,
   "metadata": {},
   "outputs": [],
   "source": [
    "def extract_glcm(img):\n",
    "    resized_img = cv2.resize(img, (256,256))\n",
    "    gray = cv2.cvtColor(resized_img, cv2.COLOR_BGR2GRAY)\n",
    "\n",
    "    level = 8\n",
    "    gray = np.floor(gray / (256 / level)).astype('uint8')\n",
    "\n",
    "    glcm = graycomatrix(gray, distances=[1], angles=[0, np.pi/4, np.pi/2, 3*np.pi/4],\n",
    "                        levels=level, symmetric=True, normed=True)\n",
    "\n",
    "    features = {\n",
    "        'contrast': graycoprops(glcm, 'contrast').mean(),\n",
    "        'dissimilarity': graycoprops(glcm, 'dissimilarity').mean(),\n",
    "        'homogeneity': graycoprops(glcm, 'homogeneity').mean(),\n",
    "        'energy': graycoprops(glcm, 'energy').mean(),\n",
    "        'correlation': graycoprops(glcm, 'correlation').mean()\n",
    "    }\n",
    "\n",
    "    return features"
   ]
  },
  {
   "cell_type": "code",
   "execution_count": 53,
   "metadata": {},
   "outputs": [],
   "source": [
    "sift = cv2.SIFT_create()\n",
    "\n",
    "def extract_features(img):\n",
    "    kp_sift, des_sift = sift.detectAndCompute(img, None)\n",
    "    \n",
    "    return kp_sift, des_sift"
   ]
  },
  {
   "cell_type": "code",
   "execution_count": 54,
   "metadata": {},
   "outputs": [],
   "source": [
    "x = []\n",
    "y = []\n",
    "folders = os.listdir('Train/')\n",
    "\n",
    "for idx, folder in enumerate(folders):\n",
    "    folder_path = os.path.join('Train', folder)\n",
    "\n",
    "    for img_name in os.listdir(folder_path):\n",
    "        img_path = os.path.join(folder_path, img_name)\n",
    "        img = cv2.imread(img_path)\n",
    "        \n",
    "        if img is not None:\n",
    "            final_img, color_hist = preprocess_img(img)\n",
    "            kp_sift, des_sift = extract_features(final_img)\n",
    "            glcm_features = extract_glcm(img)\n",
    "\n",
    "            if des_sift is not None:\n",
    "                des_sift = des_sift.flatten()[:128] \n",
    "                \n",
    "                features = np.hstack((\n",
    "                    des_sift,\n",
    "                    color_hist.flatten(),\n",
    "                    list(glcm_features.values())\n",
    "                ))\n",
    "\n",
    "                x.append(features)\n",
    "                y.append(idx)\n",
    "\n",
    "x = np.array(x)\n",
    "y = np.array(y)"
   ]
  },
  {
   "cell_type": "code",
   "execution_count": 55,
   "metadata": {},
   "outputs": [
    {
     "name": "stdout",
     "output_type": "stream",
     "text": [
      "[0 0 0 ... 3 3 3]\n"
     ]
    },
    {
     "data": {
      "text/plain": [
       "0        0\n",
       "1        0\n",
       "2        0\n",
       "3        0\n",
       "4        0\n",
       "        ..\n",
       "11067    3\n",
       "11068    3\n",
       "11069    3\n",
       "11070    3\n",
       "11071    3\n",
       "Name: label, Length: 11072, dtype: int32"
      ]
     },
     "execution_count": 55,
     "metadata": {},
     "output_type": "execute_result"
    }
   ],
   "source": [
    "data = pd.DataFrame(x)\n",
    "data['label'] = y\n",
    "\n",
    "print(y)\n",
    "\n",
    "data['label']"
   ]
  },
  {
   "cell_type": "code",
   "execution_count": 56,
   "metadata": {},
   "outputs": [
    {
     "name": "stdout",
     "output_type": "stream",
     "text": [
      "Training Accuracy: 1.00\n",
      "              precision    recall  f1-score   support\n",
      "\n",
      "           0       1.00      1.00      1.00      1679\n",
      "           1       1.00      1.00      1.00      1712\n",
      "           2       1.00      1.00      1.00      2285\n",
      "           3       1.00      1.00      1.00      2074\n",
      "\n",
      "    accuracy                           1.00      7750\n",
      "   macro avg       1.00      1.00      1.00      7750\n",
      "weighted avg       1.00      1.00      1.00      7750\n",
      "\n",
      "Test Accuracy: 1.00\n",
      "              precision    recall  f1-score   support\n",
      "\n",
      "           0       1.00      0.99      1.00       745\n",
      "           1       0.99      1.00      1.00       756\n",
      "           2       0.99      0.99      0.99       963\n",
      "           3       1.00      1.00      1.00       858\n",
      "\n",
      "    accuracy                           1.00      3322\n",
      "   macro avg       1.00      1.00      1.00      3322\n",
      "weighted avg       1.00      1.00      1.00      3322\n",
      "\n"
     ]
    }
   ],
   "source": [
    "x_train, x_test, y_train, y_test = train_test_split(x, y, test_size=0.3, random_state=42)\n",
    "\n",
    "rf_model = RandomForestClassifier(n_estimators=100, random_state=42)\n",
    "rf_model.fit(x_train, y_train)\n",
    "\n",
    "y_train_pred = rf_model.predict(x_train)\n",
    "train_accuracy = accuracy_score(y_train, y_train_pred)\n",
    "print(f\"Training Accuracy: {train_accuracy:.2f}\")\n",
    "print(classification_report(y_train, y_train_pred))\n",
    "\n",
    "y_test_pred = rf_model.predict(x_test)\n",
    "test_accuracy = accuracy_score(y_test, y_test_pred)\n",
    "print(f\"Test Accuracy: {test_accuracy:.2f}\")\n",
    "print(classification_report(y_test, y_test_pred))"
   ]
  },
  {
   "cell_type": "code",
   "execution_count": 57,
   "metadata": {},
   "outputs": [],
   "source": [
    "#Feature Matching\n",
    "\n",
    "# flann = cv2.FlannBasedMatcher(dict(algorithm=1, trees=5),dict(checks=50))\n",
    "\n",
    "# bf = cv2.BFMatcher(cv2.NORM_L2, crossCheck=False)\n"
   ]
  },
  {
   "cell_type": "code",
   "execution_count": 58,
   "metadata": {},
   "outputs": [],
   "source": [
    "# def match_fruit(descriptors):\n",
    "#     best_match = 0\n",
    "#     best_match_data = None\n",
    "\n",
    "#     for folder_path in os.listdir('Train/'):\n",
    "#         for img_path in os.listdir('Train/'+folder_path):\n",
    "#             img = cv2.imread('Train/'+folder_path+'/'+img_path)\n",
    "\n",
    "#             if img is not None:\n",
    "#                 final_img, img_hist = preprocess_img(img)\n",
    "#                 kp_sift, des_sift= extract_features(final_img)\n",
    "#                 des_sift = np.float32(des_sift)\n",
    "\n",
    "#                 matches = flann.knnMatch(descriptors,des_sift,k=2)\n",
    "\n",
    "#                 good_matches = []\n",
    "\n",
    "#                 curr_match = 0\n",
    "#                 for i, (fn,sm) in enumerate(matches):\n",
    "#                     if fn.distance < 0.75 * sm.distance:\n",
    "#                         good_matches.append(fn)\n",
    "\n",
    "#                 hist_score = cv2.compareHist(target_hist, img_hist, cv2.HISTCMP_CORREL)\n",
    "                \n",
    "#                 img_glcm = extract_glcm(img)\n",
    "\n",
    "#                 glcm_similarity = 1 - np.linalg.norm(\n",
    "#                     np.array(list(target_glcm.values())) -\n",
    "#                     np.array(list(img_glcm.values()))\n",
    "#                 )\n",
    "\n",
    "#                 if (len(good_matches)>4):\n",
    "#                     src = np.float32([target_kp_sift[m.queryIdx].pt for m in good_matches]).reshape(-1, 1, 2)\n",
    "#                     dst = np.float32([kp_sift[m.trainIdx].pt for m in good_matches]).reshape(-1, 1, 2)\n",
    "                    \n",
    "#                     _, mask = cv2.findHomography(src, dst, cv2.RANSAC, 5.0)\n",
    "\n",
    "#                     matches_mask = mask.ravel().tolist()\n",
    "#                     curr_match = sum(matches_mask)\n",
    "\n",
    "#                     final_match = (hist_score * 0.33) + (curr_match * 0.33) + (glcm_similarity * 0.33)\n",
    "#                     if best_match < final_match:\n",
    "#                         best_match = final_match\n",
    "#                         best_match_data={\n",
    "#                             'img': img,\n",
    "#                             'kp': kp_sift,\n",
    "#                             'desc': des_sift,\n",
    "#                             'matches': good_matches,\n",
    "#                             'matches_mask':matches_mask\n",
    "#                         }\n",
    "    \n",
    "#     result = cv2.drawMatches(\n",
    "#         cv2.resize(target_img,(256,256)),\n",
    "#         target_kp_sift,\n",
    "#         cv2.resize(best_match_data['img'],(256,256)),\n",
    "#         best_match_data['kp'],\n",
    "#         best_match_data['matches'],\n",
    "#         None,\n",
    "#         matchesMask=best_match_data['matches_mask'],\n",
    "#     )\n",
    "\n",
    "#     cv2.imshow('result',result)\n",
    "#     cv2.waitKey(0)\n",
    "\n",
    "# # match_fruit(target_desc)"
   ]
  }
 ],
 "metadata": {
  "kernelspec": {
   "display_name": "Python 3",
   "language": "python",
   "name": "python3"
  },
  "language_info": {
   "codemirror_mode": {
    "name": "ipython",
    "version": 3
   },
   "file_extension": ".py",
   "mimetype": "text/x-python",
   "name": "python",
   "nbconvert_exporter": "python",
   "pygments_lexer": "ipython3",
   "version": "3.7.6"
  }
 },
 "nbformat": 4,
 "nbformat_minor": 2
}
